{
 "cells": [
  {
   "cell_type": "markdown",
   "metadata": {},
   "source": [
    "# Character Generator\n",
    "This is a basic character generator based off of names, occupations, ects... from Watch Dogs: Legion."
   ]
  },
  {
   "cell_type": "code",
   "execution_count": 1,
   "metadata": {},
   "source": [
    "using System.IO;\n",
    "using System.Text.Json;"
   ],
   "outputs": []
  },
  {
   "cell_type": "code",
   "execution_count": 1,
   "metadata": {},
   "source": [
    "class Character\n",
    "{\n",
    "    public string[] First { get; set; }\n",
    "    public string[] Last { get; set; }\n",
    "    public string[] Job { get; set; }\n",
    "    public string[] Traits { get; set; }\n",
    "}"
   ],
   "outputs": []
  },
  {
   "cell_type": "code",
   "execution_count": 1,
   "metadata": {},
   "source": [
    "var path = Path.Combine(Environment.CurrentDirectory, \"data\", \"character.json\");\n",
    "var file = File.ReadAllText(path);\n",
    "var options = new JsonSerializerOptions()\n",
    "{\n",
    "    PropertyNameCaseInsensitive = false,\n",
    "};\n",
    "var json = JsonSerializer.Deserialize<Character>(file, options);"
   ],
   "outputs": []
  },
  {
   "cell_type": "code",
   "execution_count": 1,
   "metadata": {},
   "source": [
    "string RandomizeTraits()\n",
    "{\n",
    "    var rng = new Random();\n",
    "    return json.Traits[rng.Next(json.Traits.Length)];\n",
    "}"
   ],
   "outputs": []
  },
  {
   "cell_type": "code",
   "execution_count": 1,
   "metadata": {},
   "source": [
    "var rng = new Random();\n",
    "var first = json.First[rng.Next(json.First.Length)];\n",
    "var last = json.Last[rng.Next(json.Last.Length)];\n",
    "var job = json.Job[rng.Next(json.Job.Length)];"
   ],
   "outputs": []
  },
  {
   "cell_type": "code",
   "execution_count": 1,
   "metadata": {},
   "source": [
    "Console.Write($\"Name: {first} {last}\" \n",
    "+ $\"{Environment.NewLine}Job: {job}\"\n",
    "+ $\"{Environment.NewLine}Traits: {RandomizeTraits()}, {RandomizeTraits()}\");"
   ],
   "outputs": []
  }
 ],
 "metadata": {
  "kernelspec": {
   "display_name": ".NET (C#)",
   "language": "C#",
   "name": ".net-csharp"
  },
  "language_info": {
   "file_extension": ".cs",
   "mimetype": "text/x-csharp",
   "name": "C#",
   "pygments_lexer": "csharp",
   "version": "8.0"
  }
 },
 "nbformat": 4,
 "nbformat_minor": 4
}