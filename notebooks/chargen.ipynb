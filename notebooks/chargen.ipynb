{
 "cells": [
  {
   "cell_type": "markdown",
   "metadata": {},
   "source": [
    "# Character Generator\n",
    "This is a basic character generator based off of names, occupations, ects... from Watch Dogs: Legion."
   ]
  },
  {
   "cell_type": "code",
   "execution_count": 1,
   "metadata": {},
   "source": [
    "using System.IO;\n",
    "using System.Text.Json;"
   ],
   "outputs": []
  },
  {
   "cell_type": "code",
   "execution_count": 1,
   "metadata": {},
   "source": [
    "class Names\n",
    "{\n",
    "    public string[] First { get; set; }\n",
    "    public string[] Last { get; set; }\n",
    "    public string[] Occupation { get; set; }\n",
    "}"
   ],
   "outputs": []
  },
  {
   "cell_type": "code",
   "execution_count": 1,
   "metadata": {},
   "source": [
    "var path = Path.Combine(Environment.CurrentDirectory, \"data\", \"names.json\");\n",
    "var file = File.ReadAllText(path);\n",
    "var options = new JsonSerializerOptions()\n",
    "{\n",
    "    PropertyNameCaseInsensitive = false,\n",
    "};\n",
    "var json = JsonSerializer.Deserialize<Names>(file, options);"
   ],
   "outputs": []
  },
  {
   "cell_type": "code",
   "execution_count": 1,
   "metadata": {},
   "source": [
    "var rng = new Random();\n",
    "var first = json.First[rng.Next(json.First.Length)];\n",
    "var last = json.Last[rng.Next(json.Last.Length)];\n",
    "var occupation = json.Occupation[rng.Next(json.Occupation.Length)];\n",
    "Console.WriteLine($\"{first} {last}{Environment.NewLine}{occupation}\");"
   ],
   "outputs": []
  }
 ],
 "metadata": {
  "kernelspec": {
   "display_name": ".NET (C#)",
   "language": "C#",
   "name": ".net-csharp"
  },
  "language_info": {
   "file_extension": ".cs",
   "mimetype": "text/x-csharp",
   "name": "C#",
   "pygments_lexer": "csharp",
   "version": "8.0"
  }
 },
 "nbformat": 4,
 "nbformat_minor": 4
}