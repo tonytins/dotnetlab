{
 "cells": [
  {
   "cell_type": "markdown",
   "metadata": {},
   "source": [
    "# Character Generator\n",
    "\n",
    "This is a basic character generator based off of names, occupations, ects... from Watch Dogs: Legion. This generator makes a profile based on traits, skills, role, faction. Because this is all random with no sense of what could count as a potential conflict, take these results as a suggustion."
   ]
  },
  {
   "cell_type": "code",
   "execution_count": 1,
   "metadata": {},
   "source": [
    "using System.IO;\n",
    "using System.Text.Json;"
   ],
   "outputs": []
  },
  {
   "cell_type": "code",
   "execution_count": 1,
   "metadata": {},
   "source": [
    "class Character\n",
    "{\n",
    "    public string[] First { get; set; }\n",
    "    public string[] Last { get; set; }\n",
    "    public string[] Role { get; set; }\n",
    "    public string[] Trait { get; set; }\n",
    "    public string[] Faction { get; set; }\n",
    "}"
   ],
   "outputs": []
  },
  {
   "cell_type": "code",
   "execution_count": 1,
   "metadata": {},
   "source": [
    "static class CharacterGenerator\n",
    "{\n",
    "    static Character GetCharacter\n",
    "    {\n",
    "        get\n",
    "        {\n",
    "            var path = Path.Combine(Environment.CurrentDirectory, \"data\", \"character.json\");\n",
    "            var file = File.ReadAllText(path);\n",
    "            var options = new JsonSerializerOptions()\n",
    "            {\n",
    "                PropertyNameCaseInsensitive = false,\n",
    "            };\n",
    "            return JsonSerializer.Deserialize<Character>(file, options);\n",
    "        }\n",
    "    }\n",
    "\n",
    "    public static string Trait\n",
    "    {\n",
    "        get\n",
    "        {\n",
    "            var rng = new Random();\n",
    "            return GetCharacter.Trait[rng.Next(GetCharacter.Trait.Length)];\n",
    "        }\n",
    "    }\n",
    "\n",
    "    public static string Faction\n",
    "    {\n",
    "        get\n",
    "        {\n",
    "            var rng = new Random();\n",
    "            return GetCharacter.Faction[rng.Next(GetCharacter.Faction.Length)];\n",
    "        }\n",
    "    }\n",
    "\n",
    "    public static string FirstName\n",
    "    {\n",
    "        get\n",
    "        {\n",
    "            var rng = new Random();\n",
    "            return GetCharacter.First[rng.Next(GetCharacter.First.Length)];\n",
    "        }\n",
    "    }\n",
    "\n",
    "    public static string Role\n",
    "    {\n",
    "        get\n",
    "        {\n",
    "            var rng = new Random();\n",
    "            return GetCharacter.Role[rng.Next(GetCharacter.Role.Length)];\n",
    "        }\n",
    "    }\n",
    "\n",
    "    public static string LastName\n",
    "    {\n",
    "        get\n",
    "        {\n",
    "            var rng = new Random();\n",
    "            return GetCharacter.Last[rng.Next(GetCharacter.Last.Length)];\n",
    "        }\n",
    "    }\n",
    "\n",
    "    static string Skills\n",
    "    {\n",
    "        get\n",
    "        {\n",
    "            var rng = new Random();\n",
    "            var min = 1;\n",
    "            var max = 10;\n",
    "            return $\"Body {rng.Next(min, max)}, Charisma {rng.Next(min, max)}\";\n",
    "        }\n",
    "    }\n",
    "\n",
    "    public static string Generate()\n",
    "    {\n",
    "        var rng = new Random();\n",
    "        var first = FirstName;\n",
    "        var last = LastName;\n",
    "        var role = Role;\n",
    "        var faction = Faction;\n",
    "        var trait1 = Trait;\n",
    "        var trait2 = Trait;\n",
    "        var trait3 = Trait;\n",
    "\n",
    "        // Ensure there are no duplicates\n",
    "        {\n",
    "            if (trait1 == trait2 && trait1 == trait3)\n",
    "            trait1 = Trait;\n",
    "\n",
    "            if (trait2 == trait3 && trait2 == trait1)\n",
    "                trait2 = Trait;\n",
    "            var indie = \"Independent\";\n",
    "\n",
    "            if (trait1.Contains(indie) \n",
    "            || trait2.Contains(indie)\n",
    "            || trait3.Contains(indie))\n",
    "                faction = \"None\";\n",
    "\n",
    "            if (first == last)\n",
    "                first = FirstName;\n",
    "        }\n",
    "\n",
    "        return $\"Name: {first} {last}\" \n",
    "        + $\"{Environment.NewLine}Role: {role}\"\n",
    "        + $\"{Environment.NewLine}Faction: {faction}\"\n",
    "        + $\"{Environment.NewLine}Traits: {trait1}, {trait2}, {trait3}\"\n",
    "        + $\"{Environment.NewLine}Skills: {Skills}\";\n",
    "    }\n",
    "}"
   ],
   "outputs": []
  },
  {
   "cell_type": "code",
   "execution_count": 1,
   "metadata": {},
   "source": [
    "Console.Write(CharacterGenerator.Generate());\n",
    "Console.Write(CharacterGenerator.Generate());\n",
    "Console.Write(CharacterGenerator.Generate());"
   ],
   "outputs": [
    {
     "output_type": "execute_result",
     "data": {
      "text/plain": "Name: Anseim King\r\nRole: Enforecer\r\nFaction: Paramount Bond\r\nTraits: Storm Chaser, Rally Cry, Mentor\r\nSkills: Body 8, Charisma 2"
     },
     "execution_count": 1,
     "metadata": {}
    },
    {
     "output_type": "execute_result",
     "data": {
      "text/plain": "Name: Amy Harris\r\nRole: Groundskeeper\r\nFaction: Paladin League\r\nTraits: Perfectionist, Rally Cry, Gambler\r\nSkills: Body 9, Charisma 2"
     },
     "execution_count": 1,
     "metadata": {}
    },
    {
     "output_type": "execute_result",
     "data": {
      "text/plain": "Name: Felix Charles\r\nRole: Groundskeeper\r\nFaction: None\r\nTraits: Independent, Night Owl, Living Statue\r\nSkills: Body 3, Charisma 3"
     },
     "execution_count": 1,
     "metadata": {}
    }
   ]
  }
 ],
 "metadata": {
  "kernelspec": {
   "display_name": ".NET (C#)",
   "language": "C#",
   "name": ".net-csharp"
  },
  "language_info": {
   "file_extension": ".cs",
   "mimetype": "text/x-csharp",
   "name": "C#",
   "pygments_lexer": "csharp",
   "version": "8.0"
  }
 },
 "nbformat": 4,
 "nbformat_minor": 4
}