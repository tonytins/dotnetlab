{
 "cells": [
  {
   "cell_type": "markdown",
   "metadata": {},
   "source": [
    "# Character Generator\n",
    "This is a basic character generator based off of names, occupations, ects... from Watch Dogs: Legion."
   ]
  },
  {
   "cell_type": "code",
   "execution_count": 1,
   "metadata": {},
   "source": [
    "using System.IO;\n",
    "using System.Text.Json;"
   ],
   "outputs": []
  },
  {
   "cell_type": "code",
   "execution_count": 1,
   "metadata": {},
   "source": [
    "class Character\n",
    "{\n",
    "    public string[] First { get; set; }\n",
    "    public string[] Last { get; set; }\n",
    "    public string[] Role { get; set; }\n",
    "    public string[] Traits { get; set; }\n",
    "}"
   ],
   "outputs": []
  },
  {
   "cell_type": "code",
   "execution_count": 1,
   "metadata": {},
   "source": [
    "static class CharacterGenerator\n",
    "{\n",
    "    static Character GetCharacter\n",
    "    {\n",
    "        get\n",
    "        {\n",
    "            var path = Path.Combine(Environment.CurrentDirectory, \"data\", \"character.json\");\n",
    "            var file = File.ReadAllText(path);\n",
    "            var options = new JsonSerializerOptions()\n",
    "            {\n",
    "                PropertyNameCaseInsensitive = false,\n",
    "            };\n",
    "            return JsonSerializer.Deserialize<Character>(file, options);\n",
    "        }\n",
    "    }\n",
    "\n",
    "    static string RandomizeTraits\n",
    "    {\n",
    "        get\n",
    "        {\n",
    "            var rng = new Random();\n",
    "            return GetCharacter.Traits[rng.Next(GetCharacter.Traits.Length)];\n",
    "        }\n",
    "    }\n",
    "\n",
    "    static string RandomFirstName\n",
    "    {\n",
    "        get\n",
    "        {\n",
    "            var rng = new Random();\n",
    "            return GetCharacter.First[rng.Next(GetCharacter.First.Length)];\n",
    "        }\n",
    "    }\n",
    "\n",
    "    static string RandomLastName\n",
    "    {\n",
    "        get\n",
    "        {\n",
    "            var rng = new Random();\n",
    "            return GetCharacter.Last[rng.Next(GetCharacter.Last.Length)];\n",
    "        }\n",
    "    }\n",
    "\n",
    "    static string RandomSkills\n",
    "    {\n",
    "        get\n",
    "        {\n",
    "            var rng = new Random();\n",
    "            var min = 1;\n",
    "            var max = 10;\n",
    "            return $\"Body {rng.Next(min, max)}, Charisma {rng.Next(min, max)}\";\n",
    "        }\n",
    "    }\n",
    "\n",
    "    public static string Generate()\n",
    "    {\n",
    "        var rng = new Random();\n",
    "        var first = RandomFirstName;\n",
    "        var last = RandomLastName;\n",
    "        var job = GetCharacter.Role[rng.Next(GetCharacter.Role.Length)];\n",
    "        var trait1 = RandomizeTraits;\n",
    "        var trait2 = RandomizeTraits;\n",
    "        var trait3 = RandomizeTraits;\n",
    "\n",
    "        // Ensure there are no duplicates\n",
    "        {\n",
    "            if (trait1 == trait2 && trait1 == trait3)\n",
    "            trait1 = RandomizeTraits;\n",
    "\n",
    "            if (trait2 == trait3 && trait2 == trait1)\n",
    "                trait2 = RandomizeTraits;\n",
    "\n",
    "            if (first == last)\n",
    "                first = RandomFirstName;\n",
    "        }\n",
    "\n",
    "        return $\"Name: {first} {last}\" \n",
    "        + $\"{Environment.NewLine}Role: {job}\"\n",
    "        + $\"{Environment.NewLine}Traits: {trait1}, {trait2}, {trait3}\"\n",
    "        + $\"{Environment.NewLine}Skills: {RandomSkills}\";\n",
    "    }\n",
    "}"
   ],
   "outputs": []
  },
  {
   "cell_type": "code",
   "execution_count": 1,
   "metadata": {},
   "source": [
    "Console.Write(CharacterGenerator.Generate());\n",
    "Console.Write(CharacterGenerator.Generate());\n",
    "Console.Write(CharacterGenerator.Generate());"
   ],
   "outputs": [
    {
     "output_type": "execute_result",
     "data": {
      "text/plain": "Name: Elle Saeed\r\nRole: Journalist\r\nTraits: Creative Visionary, Independent, Handy\r\nSkills: Body 2, Charisma 8"
     },
     "execution_count": 1,
     "metadata": {}
    },
    {
     "output_type": "execute_result",
     "data": {
      "text/plain": "Name: Kyle Williams\r\nRole: Protest Leader\r\nTraits: Snob, Unlucky, Handy\r\nSkills: Body 4, Charisma 5"
     },
     "execution_count": 1,
     "metadata": {}
    },
    {
     "output_type": "execute_result",
     "data": {
      "text/plain": "Name: Marko Saeed\r\nRole: Enforecer\r\nTraits: Loyalty Card, K.O. Punch, Unlucky\r\nSkills: Body 5, Charisma 8"
     },
     "execution_count": 1,
     "metadata": {}
    }
   ]
  }
 ],
 "metadata": {
  "kernelspec": {
   "display_name": ".NET (C#)",
   "language": "C#",
   "name": ".net-csharp"
  },
  "language_info": {
   "file_extension": ".cs",
   "mimetype": "text/x-csharp",
   "name": "C#",
   "pygments_lexer": "csharp",
   "version": "8.0"
  }
 },
 "nbformat": 4,
 "nbformat_minor": 4
}